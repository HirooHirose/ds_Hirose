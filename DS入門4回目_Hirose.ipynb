{
  "nbformat": 4,
  "nbformat_minor": 0,
  "metadata": {
    "colab": {
      "provenance": [],
      "gpuType": "T4"
    },
    "kernelspec": {
      "name": "python3",
      "display_name": "Python 3"
    },
    "language_info": {
      "name": "python"
    },
    "accelerator": "GPU"
  },
  "cells": [
    {
      "cell_type": "markdown",
      "source": [
        "#0. 実行の準備\n",
        "\n",
        "1. 高速に計算できるようにGPUを有効にする<br>\n",
        "    メニューバー「ランタイム」→「ランタイムのタイプを変更」→「T4」\n",
        "\n",
        "1. 画面「ドライブにコピーを保存」をクリック<br>\n",
        "    ファイル名が「DS入門4回目_Hirose.ipynbのコピー」に変更される\n",
        "\n",
        "1. この演習で利用するモジュール(プログラムの部品)をインストールする。<br>\n",
        "    次のコマンドを実行(ボタンをクリック)"
      ],
      "metadata": {
        "id": "d_ObxARfwRmX"
      }
    },
    {
      "cell_type": "code",
      "source": [
        "# グラフに日本語を表示するモジュールをインストール\n",
        "!pip install japanize_matplotlib\n",
        "\n",
        "# 株価のろうそく足チャートを表示するモジュールをインストール\n",
        "!pip install mplfinance"
      ],
      "metadata": {
        "id": "xRkNHWJoX6Az"
      },
      "execution_count": null,
      "outputs": []
    },
    {
      "cell_type": "markdown",
      "source": [
        "#1. 気象データ weather.csv\n",
        "\n",
        "気象庁のHPより過去のデータがダウンロードできる。\n",
        "[気象庁のHP](https://www.data.jma.go.jp/risk/obsdl/index.php)\n",
        "\n",
        "1900年から2025年4月までの、東京、札幌、福岡の月平均気温(templature)、月当たりの降水量(participation)、月当たりの日照時間(sunshine)として、weather.csvとしてGitHubに保存している。\n",
        "\n",
        "これより、地球温暖化は本当か！？をテーマに、データ分析する。\n",
        "\n",
        "## 1.1 データの読み込み\n",
        "\n",
        "データを読み込み、保存された内容を確認する\n",
        "\n",
        "PythonでURLを指定してCSV(カンマで区切られたファイル)ファイルを読み込む\n",
        "```\n",
        "url = 'https://raw.githubusercontent.com/HirooHirose/ds_Hirose/main/weather.csv'\n",
        "df = pd.read_csv(url)\n",
        "```"
      ],
      "metadata": {
        "id": "qLVaYf2nFecl"
      }
    },
    {
      "cell_type": "code",
      "source": [
        "import pandas as pd\n",
        "import matplotlib.pyplot as plt\n",
        "\n",
        "# GitHubのraw CSVファイルURL\n",
        "url = 'https://raw.githubusercontent.com/HirooHirose/ds_Hirose/main/weather.csv'\n",
        "# CSVを読み込む\n",
        "df = pd.read_csv(url)\n",
        "# 日付をdatetime型に変換\n",
        "df['date'] = pd.to_datetime(df['date'])\n",
        "\n",
        "display(df)\n"
      ],
      "metadata": {
        "id": "gqTYT3Jw5QpZ"
      },
      "execution_count": null,
      "outputs": []
    },
    {
      "cell_type": "markdown",
      "source": [
        "##1-2 データをグラフで表示\n",
        "\n",
        "東京に絞って、1900年か2025年まで月平均気温がどのように変化したかグラフで表示したい\n",
        "\n",
        "- 東京のデータだけ抽出したい\n",
        "```\n",
        "city_data = df[df['city'] == 'Tokyo']\n",
        "```\n",
        "\n",
        "- X軸を日付、Y軸を東京の月別平均気温(templature)として折れ線グラフ\n",
        "```\n",
        "plt.plot(city_data['date'], city_data['templature'], label='東京')\n",
        "```"
      ],
      "metadata": {
        "id": "tmI6D2AK_Qm_"
      }
    },
    {
      "cell_type": "code",
      "source": [
        "import pandas as pd\n",
        "import matplotlib.pyplot as plt\n",
        "import japanize_matplotlib\n",
        "\n",
        "# GitHubのraw CSVファイルURL\n",
        "url = 'https://raw.githubusercontent.com/HirooHirose/ds_Hirose/main/weather.csv'\n",
        "# CSVを読み込む\n",
        "df = pd.read_csv(url)\n",
        "# 日付をdatetime型に変換\n",
        "df['date'] = pd.to_datetime(df['date'])\n",
        "\n",
        "# 東京の気温データだけを抽出\n",
        "city_data = df[df['city'] == 'Tokyo']\n",
        "\n",
        "# 折れ線グラフの描画\n",
        "plt.figure(figsize=(12, 6))\n",
        "#X軸を日付(date)、Y軸を月平均気温(templature)\n",
        "plt.plot(city_data['date'], city_data['templature'], label='東京')\n",
        "plt.title('東京の気温の推移')\n",
        "plt.xlabel('日付')\n",
        "plt.ylabel('気温（℃）')\n",
        "plt.grid(True)\n",
        "plt.legend()\n",
        "plt.show()\n",
        "plt.close()"
      ],
      "metadata": {
        "id": "S81OsKW1VUFt"
      },
      "execution_count": null,
      "outputs": []
    },
    {
      "cell_type": "markdown",
      "source": [
        "##1-3 気温データを年ごとに平均化する\n",
        "\n",
        "12か月のデータの平均値をとり、年ごとの平均気温データを作る\n",
        "都市別に年ごとにグループ化(groupby)し、平均値(mean)を計算する\n",
        "```\n",
        "df_year = df.groupby(['city', 'year'])['templature'].mean().reset_index()\n",
        "```"
      ],
      "metadata": {
        "id": "p8UTN3JXYuQ0"
      }
    },
    {
      "cell_type": "code",
      "source": [
        "import pandas as pd\n",
        "import matplotlib.pyplot as plt\n",
        "import japanize_matplotlib\n",
        "\n",
        "# GitHubのraw CSVファイルURL\n",
        "url = 'https://raw.githubusercontent.com/HirooHirose/ds_Hirose/main/weather.csv'\n",
        "# CSVを読み込む\n",
        "df = pd.read_csv(url)\n",
        "# 日付をdatetime型に変換\n",
        "df['date'] = pd.to_datetime(df['date'])\n",
        "# 都市別に年ごとにグループ化して平均気温を算出\n",
        "df['year'] = df['date'].dt.year\n",
        "df_year = df.groupby(['city', 'year'])['templature'].mean().reset_index()\n",
        "\n",
        "display(df_year)\n",
        "\n",
        "# 東京の気温データだけを抽出\n",
        "city_data = df_year[df_year['city'] == 'Tokyo']\n",
        "\n",
        "# 折れ線グラフの描画\n",
        "plt.figure(figsize=(12, 6))\n",
        "#X軸を日付(date)、Y軸を月平均気温(templature)\n",
        "plt.plot(city_data['year'], city_data['templature'], label='東京')\n",
        "plt.title('東京の気温の推移')\n",
        "plt.xlabel('日付')\n",
        "plt.ylabel('気温（℃）')\n",
        "plt.grid(True)\n",
        "plt.legend()\n",
        "plt.show()\n",
        "plt.close()"
      ],
      "metadata": {
        "id": "SRFKLOOXZJ2j"
      },
      "execution_count": null,
      "outputs": []
    },
    {
      "cell_type": "markdown",
      "source": [
        "# 移動平均とは？\n",
        "\n",
        "**移動平均（Moving Average, MA）** とは、時系列データの変動を平滑化し、傾向（トレンド）を把握するための基本的な手法。  \n",
        "株価・気温・売上など、変動のあるデータに対してよく使われる。\n",
        "\n",
        "---\n",
        "\n",
        "## 単純移動平均（SMA: Simple Moving Average）\n",
        "\n",
        "###  定義  \n",
        "直近 n 期間のデータの単純な平均\n",
        "\n",
        "###  数式\n",
        "\n",
        "$$\n",
        "SMA_t = \\frac{1}{n} \\sum_{i=0}^{n-1} x_{t-i}\n",
        "$$\n",
        "\n",
        "- $ SMA_t $：時刻 t における移動平均\n",
        "- $ x_t $：時刻 t の元データ（例：株価）\n",
        "- $ n $：平均を取る期間\n",
        "\n",
        "---\n",
        "\n",
        "##  加重移動平均（WMA: Weighted Moving Average）\n",
        "\n",
        "###  定義  \n",
        "各データに重みをかけて平均する方法。最近のデータに大きな重みを与える\n",
        "\n",
        "###  数式\n",
        "\n",
        "$$\n",
        "WMA_t = \\frac{\\sum_{i=0}^{n-1} w_i \\cdot x_{t-i}}{\\sum_{i=0}^{n-1} w_i}\n",
        "$$\n",
        "\n",
        "- $ w_i $：各時点に対応する重み\n",
        "\n",
        "---\n",
        "\n",
        "##  指数移動平均（EMA: Exponential Moving Average）\n",
        "\n",
        "###  定義  \n",
        "過去すべてのデータを指数的に減衰させながら平均する方法\n",
        "\n",
        "###  数式（再帰的）\n",
        "\n",
        "$$\n",
        "EMA_t = \\alpha \\cdot x_t + (1 - \\alpha) \\cdot EMA_{t-1}\n",
        "$$\n",
        "\n",
        "- $ \\alpha $ ：平滑化係数（例：$ \\alpha = \\frac{2}{n+1} $）\n",
        "\n",
        "---\n",
        "\n",
        "## 用途別の選び方\n",
        "\n",
        "| 種類 | 特徴 | 主な用途 |\n",
        "|------|------|----------|\n",
        "| SMA  | シンプルで計算が容易 | 基本的なトレンド分析 |\n",
        "| WMA  | 最近のデータに重み | 素早いトレンド反応 |\n",
        "| EMA  | すべての過去データを考慮 | テクニカル指標で一般的 |\n"
      ],
      "metadata": {
        "id": "U8PixRyy5NCz"
      }
    },
    {
      "cell_type": "markdown",
      "source": [
        "##算術移動平均の実装\n",
        "\n",
        "算術移動平均を実装するには、**rolling(window=期間数).mean()**\n",
        "```\n",
        "kikan = 7\n",
        "tokyo_data['SMA'] = tokyo_data['templature'].rolling(window=kikan).mean()\n",
        "```"
      ],
      "metadata": {
        "id": "gqUjGU_jWMZX"
      }
    },
    {
      "cell_type": "code",
      "source": [
        "import pandas as pd\n",
        "import matplotlib.pyplot as plt\n",
        "\n",
        "# GitHubのraw CSVファイルURL\n",
        "url = 'https://raw.githubusercontent.com/HirooHirose/ds_Hirose/main/weather.csv'\n",
        "# CSVを読み込む\n",
        "df = pd.read_csv(url)\n",
        "# 日付をdatetime型に変換\n",
        "df['date'] = pd.to_datetime(df['date'])\n",
        "# 都市別に年ごとにグループ化して平均気温を算出\n",
        "df['year'] = df['date'].dt.year\n",
        "df_year = df.groupby(['city', 'year'])['templature'].mean().reset_index()\n",
        "#display(df_year)\n",
        "\n",
        "# 東京の気温データだけを抽出\n",
        "city_data = df_year[df_year['city'] == 'Tokyo'].copy()\n",
        "\n",
        "# 移動平均（kikanカ月）を計算\n",
        "kikan = 7\n",
        "city_data['SMA'] = city_data['templature'].rolling(window=kikan).mean()\n",
        "\n",
        "# グラフ描画\n",
        "plt.figure(figsize=(12, 6))\n",
        "plt.plot(city_data['year'], city_data['templature'], label='実測値')\n",
        "plt.plot(city_data['year'], city_data['SMA'], label=f'{kikan}期間移動平均')\n",
        "plt.title('東京の気温と移動平均（7日）')\n",
        "plt.xlabel('日付')\n",
        "plt.ylabel('気温（℃）')\n",
        "plt.legend()\n",
        "plt.grid(True)\n",
        "plt.tight_layout()\n",
        "plt.show()\n"
      ],
      "metadata": {
        "id": "EdPt-NUGWZJO"
      },
      "execution_count": null,
      "outputs": []
    },
    {
      "cell_type": "markdown",
      "source": [
        "###問題1\n",
        "東京と札幌(sapporo)の年間平均気温を比較し、平均気温が上がっているか確かめる"
      ],
      "metadata": {
        "id": "Z50sbd5NjT7X"
      }
    },
    {
      "cell_type": "code",
      "source": [
        "import pandas as pd\n",
        "import matplotlib.pyplot as plt\n",
        "\n",
        "# GitHubのraw CSVファイルURL\n",
        "url = 'https://raw.githubusercontent.com/HirooHirose/ds_Hirose/main/weather.csv'\n",
        "# CSVを読み込む\n",
        "df = pd.read_csv(url)\n",
        "# 日付をdatetime型に変換\n",
        "df['date'] = pd.to_datetime(df['date'])\n",
        "# 都市別に年ごとにグループ化して平均気温を算出\n",
        "df['year'] = df['date'].dt.year\n",
        "df_year = df.groupby(['city', 'year'])['templature'].mean().reset_index()\n",
        "#display(df_year)\n",
        "\n",
        "# 東京の気温データだけを抽出\n",
        "city_data = df_year[df_year['city'] == 'Tokyo'].copy()\n",
        "\n",
        "# 移動平均（kikanカ月）を計算\n",
        "kikan = 7\n",
        "city_data['SMA'] = city_data['templature'].rolling(window=kikan).mean()\n",
        "\n",
        "# グラフ描画\n",
        "plt.figure(figsize=(12, 6))\n",
        "plt.plot(city_data['year'], city_data['templature'], label='実測値')\n",
        "plt.plot(city_data['year'], city_data['SMA'], label=f'{kikan}年移動平均')\n",
        "plt.title('東京の気温と移動平均（7日）')\n",
        "plt.xlabel('日付')\n",
        "plt.ylabel('気温（℃）')\n",
        "plt.legend()\n",
        "plt.grid(True)\n",
        "plt.tight_layout()\n",
        "plt.show()\n"
      ],
      "metadata": {
        "id": "ABG37U-YjetK"
      },
      "execution_count": null,
      "outputs": []
    },
    {
      "cell_type": "markdown",
      "source": [
        "###問題２\n",
        "\n",
        "東京の日照時間の推移をグラフで表示する。"
      ],
      "metadata": {
        "id": "1VN5RwUgjyVr"
      }
    },
    {
      "cell_type": "code",
      "source": [
        "import pandas as pd\n",
        "import matplotlib.pyplot as plt\n",
        "\n",
        "# GitHubのraw CSVファイルURL\n",
        "url = 'https://raw.githubusercontent.com/HirooHirose/ds_Hirose/main/weather.csv'\n",
        "# CSVを読み込む\n",
        "df = pd.read_csv(url)\n",
        "# 日付をdatetime型に変換\n",
        "df['date'] = pd.to_datetime(df['date'])\n",
        "# 都市別に年ごとにグループ化して平均気温を算出\n",
        "df['year'] = df['date'].dt.year\n",
        "df_year = df.groupby(['city', 'year'])['templature'].mean().reset_index()\n",
        "#display(df_year)\n",
        "\n",
        "# 東京の気温データだけを抽出\n",
        "city_data = df_year[df_year['city'] == 'Tokyo'].copy()\n",
        "\n",
        "# 移動平均（kikanカ月）を計算\n",
        "kikan = 7\n",
        "city_data['SMA'] = city_data['sunshine'].rolling(window=kikan).mean()\n",
        "\n",
        "# グラフ描画\n",
        "plt.figure(figsize=(12, 6))\n",
        "plt.plot(city_data['year'], city_data['templature'], label='東京実測値')\n",
        "plt.plot(city_data['year'], city_data['SMA'], label=f'東京{kikan}年移動平均')\n",
        "plt.title('東京の日照時間と移動平均（7年）')\n",
        "plt.xlabel('日付')\n",
        "plt.ylabel('気温（℃）')\n",
        "plt.legend()\n",
        "plt.grid(True)\n",
        "plt.tight_layout()\n",
        "plt.show()"
      ],
      "metadata": {
        "id": "VDw9tLJbjhvX"
      },
      "execution_count": null,
      "outputs": []
    },
    {
      "cell_type": "markdown",
      "source": [
        "#株価データ\n",
        "\n",
        "## 2－1 株価データとは\n",
        "株価データを提供しているサイト[Investing.com](https://jp.investing.com/equities)\n",
        "\n",
        "株価情報は、終値(おわりね)、始値(はじめね)、高値、安値、出来高(一日の取引数)として保存されている。\n",
        "\n",
        "(株)inpexの2020年から2025年5月7日までの株価情報を取得し、GitHubに1605.csvとして保存されている。\n"
      ],
      "metadata": {
        "id": "UI-8RKv9IcEa"
      }
    },
    {
      "cell_type": "code",
      "execution_count": null,
      "metadata": {
        "id": "P87k3faU1yub"
      },
      "outputs": [],
      "source": [
        "import pandas as pd\n",
        "import matplotlib.pyplot as plt\n",
        "\n",
        "# GitHubのraw CSVファイルURL\n",
        "url = 'https://raw.githubusercontent.com/HirooHirose/ds_Hirose/main/1605.csv'\n",
        "\n",
        "# CSVを読み込む\n",
        "df = pd.read_csv(url)\n",
        "\n",
        "# 'date' を日付型に変換してインデックスに設定\n",
        "df['date'] = pd.to_datetime(df['date'])\n",
        "df.set_index('date', inplace=True)\n",
        "#データの確認\n",
        "display(df)\n"
      ]
    },
    {
      "cell_type": "markdown",
      "source": [
        "##2-2 株価の可視化\n",
        "\n",
        "このデータを株価チャート(ろうそく足チャート)で表示するプログラム\n",
        "\n",
        "[ろうそく足チャート](https://drive.google.com/file/d/1Hu2NkdC1827ZOZhYyw9Y_CFLEyRVcsy0/view?usp=sharing)\n",
        "\n"
      ],
      "metadata": {
        "id": "OryNwWrONPF3"
      }
    },
    {
      "cell_type": "code",
      "source": [
        "# ろうそく足チャートモジュールのインポート\n",
        "import pandas as pd\n",
        "import mplfinance as mpf\n",
        "\n",
        "# データの読み込み\n",
        "url = 'https://raw.githubusercontent.com/HirooHirose/ds_Hirose/main/1605.csv'\n",
        "df = pd.read_csv(url)\n",
        "# インデックスに日付を設定\n",
        "df['date'] = pd.to_datetime(df['date'])\n",
        "df.set_index('date', inplace=True)\n",
        "#display(df)\n",
        "\n",
        "# ローソク足チャートの描画\n",
        "mpf.plot(df, type='candle', style='charles', volume=True,title='INPEX(1605)', ylabel='Price', ylabel_lower='Volume',figratio=(12, 6))"
      ],
      "metadata": {
        "id": "B6MbpuC5Nosg"
      },
      "execution_count": null,
      "outputs": []
    },
    {
      "cell_type": "markdown",
      "source": [
        "##2-3 表示の指定\n",
        "\n",
        "現状は2020年からデータが多すぎてWarningが表示される。\n",
        "\n",
        "そこで、2025年1月1日からのデータに限定してグラフを表示する。\n"
      ],
      "metadata": {
        "id": "BpKNKSCKPI92"
      }
    },
    {
      "cell_type": "code",
      "source": [
        "# ろうそく足チャートモジュールのインポート\n",
        "import pandas as pd\n",
        "import mplfinance as mpf\n",
        "\n",
        "# データの読み込み\n",
        "url = 'https://raw.githubusercontent.com/HirooHirose/ds_Hirose/main/1605.csv'\n",
        "df = pd.read_csv(url)\n",
        "# インデックスに日付を設定\n",
        "df['date'] = pd.to_datetime(df['date'])\n",
        "df.set_index('date', inplace=True)\n",
        "\n",
        "#日付を設定\n",
        "df = df[df.index >= '2025-01-01']\n",
        "display(df)\n",
        "\n",
        "# ローソク足チャートの描画\n",
        "mpf.plot(df, type='candle', style='charles', volume=True,title='INPEX(1605)', ylabel='Price', ylabel_lower='Volume',figratio=(12, 6))\n"
      ],
      "metadata": {
        "id": "3CvuOg07QTId"
      },
      "execution_count": null,
      "outputs": []
    },
    {
      "cell_type": "markdown",
      "source": [
        "##2-4 株価を予測\n",
        "\n",
        "株価を予測したい。株価で一番重要視されているのは、終値である。\n",
        "終値だけのチャートを表示するプログラム。\n",
        "\n",
        "\n"
      ],
      "metadata": {
        "id": "QDpKPlLRT50K"
      }
    },
    {
      "cell_type": "code",
      "source": [
        "import pandas as pd\n",
        "import matplotlib.pyplot as plt\n",
        "\n",
        "# GitHubのraw CSVファイルURL\n",
        "url = 'https://raw.githubusercontent.com/HirooHirose/ds_Hirose/main/1605.csv'\n",
        "\n",
        "# CSVを読み込む\n",
        "df = pd.read_csv(url)\n",
        "\n",
        "# 'date' を日付型に変換してインデックスに設定\n",
        "df['date'] = pd.to_datetime(df['date'])\n",
        "df.set_index('date', inplace=True)\n",
        "#日付を設定\n",
        "#df = df[df.index >= '2025-01-01']\n",
        "display(df)\n",
        "\n",
        "# 折れ線グラフの作成（終値）\n",
        "plt.figure(figsize=(12, 6))\n",
        "plt.plot(df.index, df['Close'], label='Close Price')\n",
        "plt.title('Stock Closing Price Over Time')\n",
        "plt.xlabel('Date')\n",
        "plt.ylabel('Close Price')\n",
        "plt.grid(True)\n",
        "plt.legend()\n",
        "plt.show()\n",
        "plt.close()"
      ],
      "metadata": {
        "id": "Pk6gRRNdSfNY"
      },
      "execution_count": null,
      "outputs": []
    },
    {
      "cell_type": "markdown",
      "source": [
        "##2-5 10日後の株価をGRUで予測する\n"
      ],
      "metadata": {
        "id": "RhEiHgC1rxJY"
      }
    },
    {
      "cell_type": "code",
      "source": [
        "import numpy as np\n",
        "import pandas as pd\n",
        "import tensorflow as tf\n",
        "from sklearn.preprocessing import MinMaxScaler\n",
        "\n",
        "# データ読み込み（GitHub等から）\n",
        "url = 'https://raw.githubusercontent.com/HirooHirose/ds_Hirose/main/1605.csv'\n",
        "df = pd.read_csv(url)\n",
        "df['date'] = pd.to_datetime(df['date'])\n",
        "df.set_index('date', inplace=True)\n",
        "df = df[df.index >= '2025-01-01'][['Close']]\n",
        "\n",
        "# スケーリング\n",
        "scaler = MinMaxScaler()\n",
        "scaled = scaler.fit_transform(df)\n",
        "\n",
        "# 時系列データ作成\n",
        "def create_sequences(data, seq_length=30):\n",
        "    X, y = [], []\n",
        "    for i in range(len(data) - seq_length):\n",
        "        X.append(data[i:i+seq_length])\n",
        "        y.append(data[i+seq_length])\n",
        "    return np.array(X), np.array(y)\n",
        "\n",
        "seq_length = 30\n",
        "X, y = create_sequences(scaled, seq_length)\n",
        "\n",
        "# GRUモデル構築\n",
        "model = tf.keras.Sequential([\n",
        "    tf.keras.layers.Input(shape=(seq_length, 1)),\n",
        "    tf.keras.layers.GRU(64),\n",
        "    tf.keras.layers.Dense(1)\n",
        "])\n",
        "model.compile(optimizer='adam', loss='mse')\n",
        "model.fit(X, y, epochs=100, verbose=0)\n",
        "\n",
        "# 10日間を再帰的に予測\n",
        "last_seq = scaled[-seq_length:].reshape(1, seq_length, 1)\n",
        "preds = []\n",
        "for _ in range(10):\n",
        "    pred = model.predict(last_seq, verbose=0)[0, 0]\n",
        "    preds.append(pred)\n",
        "    last_seq = np.append(last_seq[:, 1:, :], [[[pred]]], axis=1)\n",
        "\n",
        "# 逆正規化して表示\n",
        "pred_prices = scaler.inverse_transform(np.array(preds).reshape(-1, 1))\n",
        "future_dates = pd.date_range(df.index[-1] + pd.Timedelta(days=1), periods=10, freq='B')\n",
        "forecast_df = pd.DataFrame(pred_prices.round(1), index=future_dates, columns=['Predicted Close'])\n",
        "\n",
        "print(f\"5月7日以降10日間の予測\\n {forecast_df}\")"
      ],
      "metadata": {
        "id": "Y7jXrHfsVfwE"
      },
      "execution_count": null,
      "outputs": []
    },
    {
      "cell_type": "markdown",
      "source": [
        "## 結果をグラフで表示する"
      ],
      "metadata": {
        "id": "0nJrH54Hr8LZ"
      }
    },
    {
      "cell_type": "code",
      "source": [
        "import matplotlib.pyplot as plt\n",
        "import japanize_matplotlib\n",
        "\n",
        "# グラフ描画\n",
        "plt.figure(figsize=(12, 6))\n",
        "plt.plot(df.index, df['Close'], label='Actual Close', color='blue')\n",
        "plt.plot(forecast_df.index, forecast_df['Predicted Close'], label='Predicted Close (GRU)', color='red', linestyle='--', marker='o')\n",
        "plt.axvline(x=df.index[-1], color='gray', linestyle='dashed', label='Prediction Start')\n",
        "plt.title('INPEX (1605) 10days forcast price by GRU')\n",
        "plt.xlabel('Date')\n",
        "plt.ylabel('Close Price')\n",
        "plt.grid(True)\n",
        "plt.legend()\n",
        "#plt.tight_layout()\n",
        "plt.show()\n",
        "plt.close()"
      ],
      "metadata": {
        "id": "XOTINTzZIaH7"
      },
      "execution_count": null,
      "outputs": []
    }
  ]
}