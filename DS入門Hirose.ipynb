{
  "cells": [
    {
      "cell_type": "code",
      "execution_count": null,
      "metadata": {
        "colab": {
          "base_uri": "https://localhost:8080/"
        },
        "id": "g9r9W5uNiVQt",
        "outputId": "a345f77a-e1b7-4935-ccd3-2c59d16f4fb0"
      },
      "outputs": [
        {
          "name": "stdout",
          "output_type": "stream",
          "text": [
            "Cloning into 'ds_Hirose'...\n",
            "remote: Enumerating objects: 7, done.\u001b[K\n",
            "remote: Counting objects: 100% (7/7), done.\u001b[K\n",
            "remote: Compressing objects: 100% (6/6), done.\u001b[K\n",
            "remote: Total 7 (delta 0), reused 7 (delta 0), pack-reused 0 (from 0)\u001b[K\n",
            "Receiving objects: 100% (7/7), 20.56 KiB | 5.14 MiB/s, done.\n"
          ]
        }
      ],
      "source": [
        "#gitのクローン \n",
        "!git clone https://github.com/HirooHirose/ds_Hirose/"
      ]
    },
    {
      "cell_type": "code",
      "execution_count": 2,
      "metadata": {
        "colab": {
          "base_uri": "https://localhost:8080/",
          "height": 397
        },
        "id": "HKTeZq4Gbcln",
        "outputId": "20bd9164-4e58-4888-cf0b-62037010f182"
      },
      "outputs": [
        {
          "data": {
            "text/html": [
              "<div>\n",
              "<style scoped>\n",
              "    .dataframe tbody tr th:only-of-type {\n",
              "        vertical-align: middle;\n",
              "    }\n",
              "\n",
              "    .dataframe tbody tr th {\n",
              "        vertical-align: top;\n",
              "    }\n",
              "\n",
              "    .dataframe thead th {\n",
              "        text-align: right;\n",
              "    }\n",
              "</style>\n",
              "<table border=\"1\" class=\"dataframe\">\n",
              "  <thead>\n",
              "    <tr style=\"text-align: right;\">\n",
              "      <th></th>\n",
              "      <th>Close</th>\n",
              "    </tr>\n",
              "  </thead>\n",
              "  <tbody>\n",
              "    <tr>\n",
              "      <th>0</th>\n",
              "      <td>1678.204836</td>\n",
              "    </tr>\n",
              "    <tr>\n",
              "      <th>1</th>\n",
              "      <td>1677.590109</td>\n",
              "    </tr>\n",
              "    <tr>\n",
              "      <th>2</th>\n",
              "      <td>1672.352330</td>\n",
              "    </tr>\n",
              "    <tr>\n",
              "      <th>3</th>\n",
              "      <td>1677.078313</td>\n",
              "    </tr>\n",
              "    <tr>\n",
              "      <th>4</th>\n",
              "      <td>1673.409280</td>\n",
              "    </tr>\n",
              "    <tr>\n",
              "      <th>5</th>\n",
              "      <td>1670.700285</td>\n",
              "    </tr>\n",
              "    <tr>\n",
              "      <th>6</th>\n",
              "      <td>1668.733973</td>\n",
              "    </tr>\n",
              "    <tr>\n",
              "      <th>7</th>\n",
              "      <td>1668.249325</td>\n",
              "    </tr>\n",
              "    <tr>\n",
              "      <th>8</th>\n",
              "      <td>1667.546892</td>\n",
              "    </tr>\n",
              "    <tr>\n",
              "      <th>9</th>\n",
              "      <td>1667.015783</td>\n",
              "    </tr>\n",
              "  </tbody>\n",
              "</table>\n",
              "</div><br><label><b>dtype:</b> float64</label>"
            ],
            "text/plain": [
              "0    1678.204836\n",
              "1    1677.590109\n",
              "2    1672.352330\n",
              "3    1677.078313\n",
              "4    1673.409280\n",
              "5    1670.700285\n",
              "6    1668.733973\n",
              "7    1668.249325\n",
              "8    1667.546892\n",
              "9    1667.015783\n",
              "Name: Close, dtype: float64"
            ]
          },
          "execution_count": 2,
          "metadata": {},
          "output_type": "execute_result"
        }
      ],
      "source": [
        "from statsmodels.tsa.api import VAR\n",
        "import matplotlib.pyplot as plt\n",
        "import pandas as pd\n",
        "import numpy as np\n",
        "\n",
        "df = pd.read_csv('./ds_Hirose/1605.csv')\n",
        "\n",
        "# 日付をインデックスに変換し、時系列として扱う\n",
        "df['date'] = pd.to_datetime(df['date'])\n",
        "df.set_index('date', inplace=True)\n",
        "\n",
        "df = df[['Open', 'High', 'Low', 'Close', 'Over']].astype(float)\n",
        "\n",
        "# 自動的に頻度を推定して補完\n",
        "df = df.asfreq(pd.infer_freq(df.index))\n",
        "\n",
        "# 欠損値が発生した場合は線形補完（必要に応じて）\n",
        "df = df.interpolate(method='linear')\n",
        "\n",
        "# VARモデルの作成\n",
        "model = VAR(df)\n",
        "\n",
        "# 最適なラグ数の選択（最大15まで）\n",
        "lag_order_results = model.select_order(maxlags=15)\n",
        "optimal_lag = lag_order_results.aic\n",
        "\n",
        "# モデルのフィッティング（AICで選ばれたラグ数を使用）\n",
        "fitted_model = model.fit(optimal_lag)\n",
        "\n",
        "# 終値の10日先まで予測\n",
        "forecast_steps = 10\n",
        "forecast = fitted_model.forecast(df.values[-optimal_lag:], steps=forecast_steps)\n",
        "\n",
        "# 予測結果をDataFrameに変換\n",
        "forecast_df = pd.DataFrame(forecast, columns=df.columns)\n",
        "forecast_close = forecast_df['Close']\n",
        "\n",
        "forecast_close"
      ]
    }
  ],
  "metadata": {
    "colab": {
      "provenance": []
    },
    "kernelspec": {
      "display_name": "Python 3",
      "name": "python3"
    },
    "language_info": {
      "name": "python"
    }
  },
  "nbformat": 4,
  "nbformat_minor": 0
}
